{
 "cells": [
  {
   "cell_type": "code",
   "execution_count": 13,
   "id": "cfaf3027",
   "metadata": {},
   "outputs": [],
   "source": [
    "import pandas as pd\n",
    "from sklearn.linear_model import LinearRegression\n",
    "from sklearn.model_selection import train_test_split\n",
    "from sklearn.preprocessing import LabelEncoder"
   ]
  },
  {
   "cell_type": "code",
   "execution_count": 14,
   "id": "9f7e2bf3",
   "metadata": {},
   "outputs": [],
   "source": [
    "data=pd.read_csv(r\"D:\\intern\\archive (7)\\car_purchasing.csv\",encoding=\"cp1252\")"
   ]
  },
  {
   "cell_type": "code",
   "execution_count": 35,
   "id": "e2a9e306",
   "metadata": {},
   "outputs": [
    {
     "data": {
      "text/html": [
       "<div>\n",
       "<style scoped>\n",
       "    .dataframe tbody tr th:only-of-type {\n",
       "        vertical-align: middle;\n",
       "    }\n",
       "\n",
       "    .dataframe tbody tr th {\n",
       "        vertical-align: top;\n",
       "    }\n",
       "\n",
       "    .dataframe thead th {\n",
       "        text-align: right;\n",
       "    }\n",
       "</style>\n",
       "<table border=\"1\" class=\"dataframe\">\n",
       "  <thead>\n",
       "    <tr style=\"text-align: right;\">\n",
       "      <th></th>\n",
       "      <th>customer name</th>\n",
       "      <th>customer e-mail</th>\n",
       "      <th>country</th>\n",
       "      <th>gender</th>\n",
       "      <th>age</th>\n",
       "      <th>annual Salary</th>\n",
       "      <th>credit card debt</th>\n",
       "      <th>net worth</th>\n",
       "      <th>car purchase amount</th>\n",
       "      <th>cc_debt_to_net_worth_ratio</th>\n",
       "    </tr>\n",
       "  </thead>\n",
       "  <tbody>\n",
       "    <tr>\n",
       "      <th>0</th>\n",
       "      <td>Martina Avila</td>\n",
       "      <td>cubilia.Curae.Phasellus@quisaccumsanconvallis.edu</td>\n",
       "      <td>27</td>\n",
       "      <td>0</td>\n",
       "      <td>41.851720</td>\n",
       "      <td>62812.09301</td>\n",
       "      <td>11609.380910</td>\n",
       "      <td>238961.2505</td>\n",
       "      <td>35321.45877</td>\n",
       "      <td>0.048583</td>\n",
       "    </tr>\n",
       "    <tr>\n",
       "      <th>1</th>\n",
       "      <td>Harlan Barnes</td>\n",
       "      <td>eu.dolor@diam.co.uk</td>\n",
       "      <td>17</td>\n",
       "      <td>0</td>\n",
       "      <td>40.870623</td>\n",
       "      <td>66646.89292</td>\n",
       "      <td>9572.957136</td>\n",
       "      <td>530973.9078</td>\n",
       "      <td>45115.52566</td>\n",
       "      <td>0.018029</td>\n",
       "    </tr>\n",
       "    <tr>\n",
       "      <th>2</th>\n",
       "      <td>Naomi Rodriquez</td>\n",
       "      <td>vulputate.mauris.sagittis@ametconsectetueradip...</td>\n",
       "      <td>1</td>\n",
       "      <td>1</td>\n",
       "      <td>43.152897</td>\n",
       "      <td>53798.55112</td>\n",
       "      <td>11160.355060</td>\n",
       "      <td>638467.1773</td>\n",
       "      <td>42925.70921</td>\n",
       "      <td>0.017480</td>\n",
       "    </tr>\n",
       "    <tr>\n",
       "      <th>3</th>\n",
       "      <td>Jade Cunningham</td>\n",
       "      <td>malesuada@dignissim.com</td>\n",
       "      <td>41</td>\n",
       "      <td>1</td>\n",
       "      <td>58.271369</td>\n",
       "      <td>79370.03798</td>\n",
       "      <td>14426.164850</td>\n",
       "      <td>548599.0524</td>\n",
       "      <td>67422.36313</td>\n",
       "      <td>0.026296</td>\n",
       "    </tr>\n",
       "    <tr>\n",
       "      <th>4</th>\n",
       "      <td>Cedric Leach</td>\n",
       "      <td>felis.ullamcorper.viverra@egetmollislectus.net</td>\n",
       "      <td>26</td>\n",
       "      <td>1</td>\n",
       "      <td>57.313749</td>\n",
       "      <td>59729.15130</td>\n",
       "      <td>5358.712177</td>\n",
       "      <td>560304.0671</td>\n",
       "      <td>55915.46248</td>\n",
       "      <td>0.009564</td>\n",
       "    </tr>\n",
       "    <tr>\n",
       "      <th>...</th>\n",
       "      <td>...</td>\n",
       "      <td>...</td>\n",
       "      <td>...</td>\n",
       "      <td>...</td>\n",
       "      <td>...</td>\n",
       "      <td>...</td>\n",
       "      <td>...</td>\n",
       "      <td>...</td>\n",
       "      <td>...</td>\n",
       "      <td>...</td>\n",
       "    </tr>\n",
       "    <tr>\n",
       "      <th>495</th>\n",
       "      <td>Walter</td>\n",
       "      <td>ligula@Cumsociis.ca</td>\n",
       "      <td>128</td>\n",
       "      <td>0</td>\n",
       "      <td>41.462515</td>\n",
       "      <td>71942.40291</td>\n",
       "      <td>6995.902524</td>\n",
       "      <td>541670.1016</td>\n",
       "      <td>48901.44342</td>\n",
       "      <td>0.012915</td>\n",
       "    </tr>\n",
       "    <tr>\n",
       "      <th>496</th>\n",
       "      <td>Vanna</td>\n",
       "      <td>Cum.sociis.natoque@Sedmolestie.edu</td>\n",
       "      <td>208</td>\n",
       "      <td>1</td>\n",
       "      <td>37.642000</td>\n",
       "      <td>56039.49793</td>\n",
       "      <td>12301.456790</td>\n",
       "      <td>360419.0988</td>\n",
       "      <td>31491.41457</td>\n",
       "      <td>0.034131</td>\n",
       "    </tr>\n",
       "    <tr>\n",
       "      <th>497</th>\n",
       "      <td>Pearl</td>\n",
       "      <td>penatibus.et@massanonante.com</td>\n",
       "      <td>144</td>\n",
       "      <td>1</td>\n",
       "      <td>53.943497</td>\n",
       "      <td>68888.77805</td>\n",
       "      <td>10611.606860</td>\n",
       "      <td>764531.3203</td>\n",
       "      <td>64147.28888</td>\n",
       "      <td>0.013880</td>\n",
       "    </tr>\n",
       "    <tr>\n",
       "      <th>498</th>\n",
       "      <td>Nell</td>\n",
       "      <td>Quisque.varius@arcuVivamussit.net</td>\n",
       "      <td>24</td>\n",
       "      <td>1</td>\n",
       "      <td>59.160509</td>\n",
       "      <td>49811.99062</td>\n",
       "      <td>14013.034510</td>\n",
       "      <td>337826.6382</td>\n",
       "      <td>45442.15353</td>\n",
       "      <td>0.041480</td>\n",
       "    </tr>\n",
       "    <tr>\n",
       "      <th>499</th>\n",
       "      <td>Marla</td>\n",
       "      <td>Camaron.marla@hotmail.com</td>\n",
       "      <td>209</td>\n",
       "      <td>1</td>\n",
       "      <td>46.731152</td>\n",
       "      <td>61370.67766</td>\n",
       "      <td>9391.341628</td>\n",
       "      <td>462946.4924</td>\n",
       "      <td>45107.22566</td>\n",
       "      <td>0.020286</td>\n",
       "    </tr>\n",
       "  </tbody>\n",
       "</table>\n",
       "<p>500 rows × 10 columns</p>\n",
       "</div>"
      ],
      "text/plain": [
       "       customer name                                    customer e-mail  \\\n",
       "0      Martina Avila  cubilia.Curae.Phasellus@quisaccumsanconvallis.edu   \n",
       "1      Harlan Barnes                                eu.dolor@diam.co.uk   \n",
       "2    Naomi Rodriquez  vulputate.mauris.sagittis@ametconsectetueradip...   \n",
       "3    Jade Cunningham                            malesuada@dignissim.com   \n",
       "4       Cedric Leach     felis.ullamcorper.viverra@egetmollislectus.net   \n",
       "..               ...                                                ...   \n",
       "495           Walter                                ligula@Cumsociis.ca   \n",
       "496            Vanna                 Cum.sociis.natoque@Sedmolestie.edu   \n",
       "497            Pearl                      penatibus.et@massanonante.com   \n",
       "498             Nell                  Quisque.varius@arcuVivamussit.net   \n",
       "499            Marla                          Camaron.marla@hotmail.com   \n",
       "\n",
       "     country  gender        age  annual Salary  credit card debt    net worth  \\\n",
       "0         27       0  41.851720    62812.09301      11609.380910  238961.2505   \n",
       "1         17       0  40.870623    66646.89292       9572.957136  530973.9078   \n",
       "2          1       1  43.152897    53798.55112      11160.355060  638467.1773   \n",
       "3         41       1  58.271369    79370.03798      14426.164850  548599.0524   \n",
       "4         26       1  57.313749    59729.15130       5358.712177  560304.0671   \n",
       "..       ...     ...        ...            ...               ...          ...   \n",
       "495      128       0  41.462515    71942.40291       6995.902524  541670.1016   \n",
       "496      208       1  37.642000    56039.49793      12301.456790  360419.0988   \n",
       "497      144       1  53.943497    68888.77805      10611.606860  764531.3203   \n",
       "498       24       1  59.160509    49811.99062      14013.034510  337826.6382   \n",
       "499      209       1  46.731152    61370.67766       9391.341628  462946.4924   \n",
       "\n",
       "     car purchase amount  cc_debt_to_net_worth_ratio  \n",
       "0            35321.45877                    0.048583  \n",
       "1            45115.52566                    0.018029  \n",
       "2            42925.70921                    0.017480  \n",
       "3            67422.36313                    0.026296  \n",
       "4            55915.46248                    0.009564  \n",
       "..                   ...                         ...  \n",
       "495          48901.44342                    0.012915  \n",
       "496          31491.41457                    0.034131  \n",
       "497          64147.28888                    0.013880  \n",
       "498          45442.15353                    0.041480  \n",
       "499          45107.22566                    0.020286  \n",
       "\n",
       "[500 rows x 10 columns]"
      ]
     },
     "execution_count": 35,
     "metadata": {},
     "output_type": "execute_result"
    }
   ],
   "source": [
    "data"
   ]
  },
  {
   "cell_type": "code",
   "execution_count": 15,
   "id": "4df6a77c",
   "metadata": {},
   "outputs": [
    {
     "data": {
      "text/plain": [
       "Index(['customer name', 'customer e-mail', 'country', 'gender', 'age',\n",
       "       'annual Salary', 'credit card debt', 'net worth',\n",
       "       'car purchase amount'],\n",
       "      dtype='object')"
      ]
     },
     "execution_count": 15,
     "metadata": {},
     "output_type": "execute_result"
    }
   ],
   "source": [
    "data.columns"
   ]
  },
  {
   "cell_type": "code",
   "execution_count": 16,
   "id": "be923590",
   "metadata": {},
   "outputs": [],
   "source": [
    "data =data[(data['annual Salary'] >= 20000)&(data['annual Salary'] <= 500000)]\n",
    "data =data[(data['credit card debt']>= 0)&(data['credit card debt'] <= 300000)]\n",
    "data =data[(data['net worth'] >= 0)&(data['net worth'] <= 1000000)]\n"
   ]
  },
  {
   "cell_type": "code",
   "execution_count": 17,
   "id": "0ad7c076",
   "metadata": {},
   "outputs": [],
   "source": [
    "data.fillna(method='ffill', inplace=True)\n"
   ]
  },
  {
   "cell_type": "code",
   "execution_count": 18,
   "id": "703716f3",
   "metadata": {},
   "outputs": [],
   "source": [
    "model = LabelEncoder()\n",
    "data['country'] = model.fit_transform(data['country'])\n",
    "model1 = LabelEncoder()\n",
    "data['gender'] = model1.fit_transform(data['gender'])"
   ]
  },
  {
   "cell_type": "code",
   "execution_count": 21,
   "id": "fa73038b",
   "metadata": {},
   "outputs": [],
   "source": [
    "data['cc_debt_to_net_worth_ratio'] =data['credit card debt'] /data['net worth']\n",
    "x_train,x_test,y_train,y_test = train_test_split(data[['annual Salary','credit card debt', 'net worth', 'cc_debt_to_net_worth_ratio', 'country', 'gender']],data['car purchase amount'], test_size=0.3, random_state=42)\n"
   ]
  },
  {
   "cell_type": "code",
   "execution_count": 36,
   "id": "de7beecc",
   "metadata": {},
   "outputs": [
    {
     "data": {
      "text/html": [
       "<div>\n",
       "<style scoped>\n",
       "    .dataframe tbody tr th:only-of-type {\n",
       "        vertical-align: middle;\n",
       "    }\n",
       "\n",
       "    .dataframe tbody tr th {\n",
       "        vertical-align: top;\n",
       "    }\n",
       "\n",
       "    .dataframe thead th {\n",
       "        text-align: right;\n",
       "    }\n",
       "</style>\n",
       "<table border=\"1\" class=\"dataframe\">\n",
       "  <thead>\n",
       "    <tr style=\"text-align: right;\">\n",
       "      <th></th>\n",
       "      <th>annual Salary</th>\n",
       "      <th>credit card debt</th>\n",
       "      <th>net worth</th>\n",
       "      <th>cc_debt_to_net_worth_ratio</th>\n",
       "      <th>country</th>\n",
       "      <th>gender</th>\n",
       "    </tr>\n",
       "  </thead>\n",
       "  <tbody>\n",
       "    <tr>\n",
       "      <th>5</th>\n",
       "      <td>68499.85162</td>\n",
       "      <td>14179.472440</td>\n",
       "      <td>428485.3604</td>\n",
       "      <td>0.033092</td>\n",
       "      <td>100</td>\n",
       "      <td>1</td>\n",
       "    </tr>\n",
       "    <tr>\n",
       "      <th>116</th>\n",
       "      <td>69175.19403</td>\n",
       "      <td>6039.594519</td>\n",
       "      <td>325701.4083</td>\n",
       "      <td>0.018543</td>\n",
       "      <td>128</td>\n",
       "      <td>1</td>\n",
       "    </tr>\n",
       "    <tr>\n",
       "      <th>45</th>\n",
       "      <td>70787.27764</td>\n",
       "      <td>10155.340950</td>\n",
       "      <td>853913.8532</td>\n",
       "      <td>0.011893</td>\n",
       "      <td>183</td>\n",
       "      <td>0</td>\n",
       "    </tr>\n",
       "    <tr>\n",
       "      <th>16</th>\n",
       "      <td>63259.87837</td>\n",
       "      <td>11495.549990</td>\n",
       "      <td>370356.2223</td>\n",
       "      <td>0.031039</td>\n",
       "      <td>185</td>\n",
       "      <td>0</td>\n",
       "    </tr>\n",
       "    <tr>\n",
       "      <th>462</th>\n",
       "      <td>66680.27410</td>\n",
       "      <td>10263.148990</td>\n",
       "      <td>556945.8742</td>\n",
       "      <td>0.018428</td>\n",
       "      <td>170</td>\n",
       "      <td>0</td>\n",
       "    </tr>\n",
       "    <tr>\n",
       "      <th>...</th>\n",
       "      <td>...</td>\n",
       "      <td>...</td>\n",
       "      <td>...</td>\n",
       "      <td>...</td>\n",
       "      <td>...</td>\n",
       "      <td>...</td>\n",
       "    </tr>\n",
       "    <tr>\n",
       "      <th>106</th>\n",
       "      <td>51075.46118</td>\n",
       "      <td>12416.848450</td>\n",
       "      <td>450402.2932</td>\n",
       "      <td>0.027568</td>\n",
       "      <td>184</td>\n",
       "      <td>0</td>\n",
       "    </tr>\n",
       "    <tr>\n",
       "      <th>270</th>\n",
       "      <td>33422.99683</td>\n",
       "      <td>8570.611562</td>\n",
       "      <td>211168.6293</td>\n",
       "      <td>0.040587</td>\n",
       "      <td>21</td>\n",
       "      <td>0</td>\n",
       "    </tr>\n",
       "    <tr>\n",
       "      <th>348</th>\n",
       "      <td>63561.04525</td>\n",
       "      <td>3730.119720</td>\n",
       "      <td>608019.6308</td>\n",
       "      <td>0.006135</td>\n",
       "      <td>112</td>\n",
       "      <td>0</td>\n",
       "    </tr>\n",
       "    <tr>\n",
       "      <th>435</th>\n",
       "      <td>41409.29390</td>\n",
       "      <td>8211.340920</td>\n",
       "      <td>421318.9764</td>\n",
       "      <td>0.019490</td>\n",
       "      <td>111</td>\n",
       "      <td>1</td>\n",
       "    </tr>\n",
       "    <tr>\n",
       "      <th>102</th>\n",
       "      <td>68289.18229</td>\n",
       "      <td>7357.787011</td>\n",
       "      <td>404457.3099</td>\n",
       "      <td>0.018192</td>\n",
       "      <td>20</td>\n",
       "      <td>1</td>\n",
       "    </tr>\n",
       "  </tbody>\n",
       "</table>\n",
       "<p>350 rows × 6 columns</p>\n",
       "</div>"
      ],
      "text/plain": [
       "     annual Salary  credit card debt    net worth  cc_debt_to_net_worth_ratio  \\\n",
       "5      68499.85162      14179.472440  428485.3604                    0.033092   \n",
       "116    69175.19403       6039.594519  325701.4083                    0.018543   \n",
       "45     70787.27764      10155.340950  853913.8532                    0.011893   \n",
       "16     63259.87837      11495.549990  370356.2223                    0.031039   \n",
       "462    66680.27410      10263.148990  556945.8742                    0.018428   \n",
       "..             ...               ...          ...                         ...   \n",
       "106    51075.46118      12416.848450  450402.2932                    0.027568   \n",
       "270    33422.99683       8570.611562  211168.6293                    0.040587   \n",
       "348    63561.04525       3730.119720  608019.6308                    0.006135   \n",
       "435    41409.29390       8211.340920  421318.9764                    0.019490   \n",
       "102    68289.18229       7357.787011  404457.3099                    0.018192   \n",
       "\n",
       "     country  gender  \n",
       "5        100       1  \n",
       "116      128       1  \n",
       "45       183       0  \n",
       "16       185       0  \n",
       "462      170       0  \n",
       "..       ...     ...  \n",
       "106      184       0  \n",
       "270       21       0  \n",
       "348      112       0  \n",
       "435      111       1  \n",
       "102       20       1  \n",
       "\n",
       "[350 rows x 6 columns]"
      ]
     },
     "execution_count": 36,
     "metadata": {},
     "output_type": "execute_result"
    }
   ],
   "source": [
    "x_train"
   ]
  },
  {
   "cell_type": "code",
   "execution_count": 30,
   "id": "028c8a92",
   "metadata": {},
   "outputs": [
    {
     "data": {
      "text/plain": [
       "(350, 6)"
      ]
     },
     "execution_count": 30,
     "metadata": {},
     "output_type": "execute_result"
    }
   ],
   "source": [
    "x_train.shape"
   ]
  },
  {
   "cell_type": "code",
   "execution_count": 31,
   "id": "69350946",
   "metadata": {},
   "outputs": [
    {
     "data": {
      "text/plain": [
       "(150, 6)"
      ]
     },
     "execution_count": 31,
     "metadata": {},
     "output_type": "execute_result"
    }
   ],
   "source": [
    "x_test.shape"
   ]
  },
  {
   "cell_type": "code",
   "execution_count": 23,
   "id": "a2a1bd20",
   "metadata": {},
   "outputs": [
    {
     "name": "stdout",
     "output_type": "stream",
     "text": [
      "Mean squared error: 43994509.22523701\n"
     ]
    }
   ],
   "source": [
    "model3=LinearRegression()\n",
    "\n",
    "# Train the model on the training set\n",
    "model3.fit(x_train, y_train)\n",
    "\n",
    "# Evaluate the model on the testing set\n",
    "y_pred = model3.predict(x_test)\n",
    "print('Mean squared error:', np.mean((y_pred - y_test)**2))"
   ]
  },
  {
   "cell_type": "code",
   "execution_count": 41,
   "id": "c87c6ad2",
   "metadata": {},
   "outputs": [
    {
     "data": {
      "text/plain": [
       "array([[1.e+04, 2.e+04, 5.e+05, 1.e-02, 0.e+00, 1.e+00]])"
      ]
     },
     "execution_count": 41,
     "metadata": {},
     "output_type": "execute_result"
    }
   ],
   "source": [
    "input=(10000,20000,500000,0.01,0,1)\n",
    "input1=np.asarray(input)\n",
    "int2=input1.reshape(1,-1)\n",
    "int2"
   ]
  },
  {
   "cell_type": "code",
   "execution_count": 48,
   "id": "9b762245",
   "metadata": {},
   "outputs": [
    {
     "name": "stderr",
     "output_type": "stream",
     "text": [
      "C:\\Users\\lavan\\anaconda3\\lib\\site-packages\\sklearn\\base.py:450: UserWarning: X does not have valid feature names, but LinearRegression was fitted with feature names\n",
      "  warnings.warn(\n"
     ]
    }
   ],
   "source": [
    "pred=model3.predict(int2)\n",
    "predict=pred.astype(int)\n"
   ]
  },
  {
   "cell_type": "code",
   "execution_count": 49,
   "id": "3b18c8b6",
   "metadata": {},
   "outputs": [
    {
     "name": "stdout",
     "output_type": "stream",
     "text": [
      "Predicted car purchase amount: [16298]\n"
     ]
    }
   ],
   "source": [
    "print('Predicted car purchase amount:', predict)"
   ]
  },
  {
   "cell_type": "code",
   "execution_count": null,
   "id": "b470b29f",
   "metadata": {},
   "outputs": [],
   "source": []
  }
 ],
 "metadata": {
  "kernelspec": {
   "display_name": "Python 3 (ipykernel)",
   "language": "python",
   "name": "python3"
  },
  "language_info": {
   "codemirror_mode": {
    "name": "ipython",
    "version": 3
   },
   "file_extension": ".py",
   "mimetype": "text/x-python",
   "name": "python",
   "nbconvert_exporter": "python",
   "pygments_lexer": "ipython3",
   "version": "3.9.12"
  }
 },
 "nbformat": 4,
 "nbformat_minor": 5
}
