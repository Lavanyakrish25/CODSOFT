{
 "cells": [
  {
   "cell_type": "code",
   "execution_count": 23,
   "id": "54712d2b",
   "metadata": {},
   "outputs": [],
   "source": [
    "import numpy as np\n",
    "import pandas as pd\n",
    "from sklearn.linear_model import LinearRegression\n",
    "from sklearn.preprocessing import LabelEncoder"
   ]
  },
  {
   "cell_type": "code",
   "execution_count": 24,
   "id": "143f40a9",
   "metadata": {},
   "outputs": [],
   "source": [
    "data=pd.read_csv(r\"D:\\intern\\archive (7)\\IMDb Movies India.csv\",encoding=\"cp1252\")"
   ]
  },
  {
   "cell_type": "code",
   "execution_count": 25,
   "id": "c307c6cc",
   "metadata": {},
   "outputs": [
    {
     "data": {
      "text/html": [
       "<div>\n",
       "<style scoped>\n",
       "    .dataframe tbody tr th:only-of-type {\n",
       "        vertical-align: middle;\n",
       "    }\n",
       "\n",
       "    .dataframe tbody tr th {\n",
       "        vertical-align: top;\n",
       "    }\n",
       "\n",
       "    .dataframe thead th {\n",
       "        text-align: right;\n",
       "    }\n",
       "</style>\n",
       "<table border=\"1\" class=\"dataframe\">\n",
       "  <thead>\n",
       "    <tr style=\"text-align: right;\">\n",
       "      <th></th>\n",
       "      <th>Name</th>\n",
       "      <th>Year</th>\n",
       "      <th>Duration</th>\n",
       "      <th>Genre</th>\n",
       "      <th>Rating</th>\n",
       "      <th>Votes</th>\n",
       "      <th>Director</th>\n",
       "      <th>Actor 1</th>\n",
       "      <th>Actor 2</th>\n",
       "      <th>Actor 3</th>\n",
       "    </tr>\n",
       "  </thead>\n",
       "  <tbody>\n",
       "    <tr>\n",
       "      <th>0</th>\n",
       "      <td></td>\n",
       "      <td>NaN</td>\n",
       "      <td>NaN</td>\n",
       "      <td>Drama</td>\n",
       "      <td>NaN</td>\n",
       "      <td>NaN</td>\n",
       "      <td>J.S. Randhawa</td>\n",
       "      <td>Manmauji</td>\n",
       "      <td>Birbal</td>\n",
       "      <td>Rajendra Bhatia</td>\n",
       "    </tr>\n",
       "    <tr>\n",
       "      <th>1</th>\n",
       "      <td>#Gadhvi (He thought he was Gandhi)</td>\n",
       "      <td>(2019)</td>\n",
       "      <td>109 min</td>\n",
       "      <td>Drama</td>\n",
       "      <td>7.0</td>\n",
       "      <td>8</td>\n",
       "      <td>Gaurav Bakshi</td>\n",
       "      <td>Rasika Dugal</td>\n",
       "      <td>Vivek Ghamande</td>\n",
       "      <td>Arvind Jangid</td>\n",
       "    </tr>\n",
       "    <tr>\n",
       "      <th>2</th>\n",
       "      <td>#Homecoming</td>\n",
       "      <td>(2021)</td>\n",
       "      <td>90 min</td>\n",
       "      <td>Drama, Musical</td>\n",
       "      <td>NaN</td>\n",
       "      <td>NaN</td>\n",
       "      <td>Soumyajit Majumdar</td>\n",
       "      <td>Sayani Gupta</td>\n",
       "      <td>Plabita Borthakur</td>\n",
       "      <td>Roy Angana</td>\n",
       "    </tr>\n",
       "    <tr>\n",
       "      <th>3</th>\n",
       "      <td>#Yaaram</td>\n",
       "      <td>(2019)</td>\n",
       "      <td>110 min</td>\n",
       "      <td>Comedy, Romance</td>\n",
       "      <td>4.4</td>\n",
       "      <td>35</td>\n",
       "      <td>Ovais Khan</td>\n",
       "      <td>Prateik</td>\n",
       "      <td>Ishita Raj</td>\n",
       "      <td>Siddhant Kapoor</td>\n",
       "    </tr>\n",
       "    <tr>\n",
       "      <th>4</th>\n",
       "      <td>...And Once Again</td>\n",
       "      <td>(2010)</td>\n",
       "      <td>105 min</td>\n",
       "      <td>Drama</td>\n",
       "      <td>NaN</td>\n",
       "      <td>NaN</td>\n",
       "      <td>Amol Palekar</td>\n",
       "      <td>Rajat Kapoor</td>\n",
       "      <td>Rituparna Sengupta</td>\n",
       "      <td>Antara Mali</td>\n",
       "    </tr>\n",
       "    <tr>\n",
       "      <th>...</th>\n",
       "      <td>...</td>\n",
       "      <td>...</td>\n",
       "      <td>...</td>\n",
       "      <td>...</td>\n",
       "      <td>...</td>\n",
       "      <td>...</td>\n",
       "      <td>...</td>\n",
       "      <td>...</td>\n",
       "      <td>...</td>\n",
       "      <td>...</td>\n",
       "    </tr>\n",
       "    <tr>\n",
       "      <th>15504</th>\n",
       "      <td>Zulm Ko Jala Doonga</td>\n",
       "      <td>(1988)</td>\n",
       "      <td>NaN</td>\n",
       "      <td>Action</td>\n",
       "      <td>4.6</td>\n",
       "      <td>11</td>\n",
       "      <td>Mahendra Shah</td>\n",
       "      <td>Naseeruddin Shah</td>\n",
       "      <td>Sumeet Saigal</td>\n",
       "      <td>Suparna Anand</td>\n",
       "    </tr>\n",
       "    <tr>\n",
       "      <th>15505</th>\n",
       "      <td>Zulmi</td>\n",
       "      <td>(1999)</td>\n",
       "      <td>129 min</td>\n",
       "      <td>Action, Drama</td>\n",
       "      <td>4.5</td>\n",
       "      <td>655</td>\n",
       "      <td>Kuku Kohli</td>\n",
       "      <td>Akshay Kumar</td>\n",
       "      <td>Twinkle Khanna</td>\n",
       "      <td>Aruna Irani</td>\n",
       "    </tr>\n",
       "    <tr>\n",
       "      <th>15506</th>\n",
       "      <td>Zulmi Raj</td>\n",
       "      <td>(2005)</td>\n",
       "      <td>NaN</td>\n",
       "      <td>Action</td>\n",
       "      <td>NaN</td>\n",
       "      <td>NaN</td>\n",
       "      <td>Kiran Thej</td>\n",
       "      <td>Sangeeta Tiwari</td>\n",
       "      <td>NaN</td>\n",
       "      <td>NaN</td>\n",
       "    </tr>\n",
       "    <tr>\n",
       "      <th>15507</th>\n",
       "      <td>Zulmi Shikari</td>\n",
       "      <td>(1988)</td>\n",
       "      <td>NaN</td>\n",
       "      <td>Action</td>\n",
       "      <td>NaN</td>\n",
       "      <td>NaN</td>\n",
       "      <td>NaN</td>\n",
       "      <td>NaN</td>\n",
       "      <td>NaN</td>\n",
       "      <td>NaN</td>\n",
       "    </tr>\n",
       "    <tr>\n",
       "      <th>15508</th>\n",
       "      <td>Zulm-O-Sitam</td>\n",
       "      <td>(1998)</td>\n",
       "      <td>130 min</td>\n",
       "      <td>Action, Drama</td>\n",
       "      <td>6.2</td>\n",
       "      <td>20</td>\n",
       "      <td>K.C. Bokadia</td>\n",
       "      <td>Dharmendra</td>\n",
       "      <td>Jaya Prada</td>\n",
       "      <td>Arjun Sarja</td>\n",
       "    </tr>\n",
       "  </tbody>\n",
       "</table>\n",
       "<p>15509 rows × 10 columns</p>\n",
       "</div>"
      ],
      "text/plain": [
       "                                     Name    Year Duration            Genre  \\\n",
       "0                                             NaN      NaN            Drama   \n",
       "1      #Gadhvi (He thought he was Gandhi)  (2019)  109 min            Drama   \n",
       "2                             #Homecoming  (2021)   90 min   Drama, Musical   \n",
       "3                                 #Yaaram  (2019)  110 min  Comedy, Romance   \n",
       "4                       ...And Once Again  (2010)  105 min            Drama   \n",
       "...                                   ...     ...      ...              ...   \n",
       "15504                 Zulm Ko Jala Doonga  (1988)      NaN           Action   \n",
       "15505                               Zulmi  (1999)  129 min    Action, Drama   \n",
       "15506                           Zulmi Raj  (2005)      NaN           Action   \n",
       "15507                       Zulmi Shikari  (1988)      NaN           Action   \n",
       "15508                        Zulm-O-Sitam  (1998)  130 min    Action, Drama   \n",
       "\n",
       "       Rating Votes            Director           Actor 1             Actor 2  \\\n",
       "0         NaN   NaN       J.S. Randhawa          Manmauji              Birbal   \n",
       "1         7.0     8       Gaurav Bakshi      Rasika Dugal      Vivek Ghamande   \n",
       "2         NaN   NaN  Soumyajit Majumdar      Sayani Gupta   Plabita Borthakur   \n",
       "3         4.4    35          Ovais Khan           Prateik          Ishita Raj   \n",
       "4         NaN   NaN        Amol Palekar      Rajat Kapoor  Rituparna Sengupta   \n",
       "...       ...   ...                 ...               ...                 ...   \n",
       "15504     4.6    11       Mahendra Shah  Naseeruddin Shah       Sumeet Saigal   \n",
       "15505     4.5   655          Kuku Kohli      Akshay Kumar      Twinkle Khanna   \n",
       "15506     NaN   NaN          Kiran Thej   Sangeeta Tiwari                 NaN   \n",
       "15507     NaN   NaN                 NaN               NaN                 NaN   \n",
       "15508     6.2    20        K.C. Bokadia        Dharmendra          Jaya Prada   \n",
       "\n",
       "               Actor 3  \n",
       "0      Rajendra Bhatia  \n",
       "1        Arvind Jangid  \n",
       "2           Roy Angana  \n",
       "3      Siddhant Kapoor  \n",
       "4          Antara Mali  \n",
       "...                ...  \n",
       "15504    Suparna Anand  \n",
       "15505      Aruna Irani  \n",
       "15506              NaN  \n",
       "15507              NaN  \n",
       "15508      Arjun Sarja  \n",
       "\n",
       "[15509 rows x 10 columns]"
      ]
     },
     "execution_count": 25,
     "metadata": {},
     "output_type": "execute_result"
    }
   ],
   "source": [
    "data"
   ]
  },
  {
   "cell_type": "code",
   "execution_count": 26,
   "id": "0879de18",
   "metadata": {},
   "outputs": [
    {
     "name": "stderr",
     "output_type": "stream",
     "text": [
      "C:\\Users\\lavan\\AppData\\Local\\Temp\\ipykernel_28580\\390147944.py:1: FutureWarning: In a future version of pandas all arguments of DataFrame.dropna will be keyword-only.\n",
      "  data.dropna(0,inplace=True)\n"
     ]
    }
   ],
   "source": [
    "data.dropna(0,inplace=True)"
   ]
  },
  {
   "cell_type": "code",
   "execution_count": 27,
   "id": "63e72652",
   "metadata": {},
   "outputs": [
    {
     "data": {
      "text/plain": [
       "Index(['Name', 'Year', 'Duration', 'Genre', 'Rating', 'Votes', 'Director',\n",
       "       'Actor 1', 'Actor 2', 'Actor 3'],\n",
       "      dtype='object')"
      ]
     },
     "execution_count": 27,
     "metadata": {},
     "output_type": "execute_result"
    }
   ],
   "source": [
    "data.columns"
   ]
  },
  {
   "cell_type": "code",
   "execution_count": 38,
   "id": "6350d041",
   "metadata": {},
   "outputs": [],
   "source": [
    "data.dropna(inplace=True)\n",
    "data['Genre'] = data['Genre'].astype('category').cat.codes\n",
    "data['Director'] = data['Director'].astype('category').cat.codes\n",
    "data['Actor 1'] = data['Actor 1'].astype('category').cat.codes\n",
    "data['Actor 2'] =data['Actor 2'].astype('category').cat.codes\n",
    "data['Actor 3'] =data['Actor 3'].astype('category').cat.codes\n",
    "data['Year'] =data['Year'].astype('category').cat.codes\n",
    "data['Duration'] = data['Duration'].astype('category').cat.codes"
   ]
  },
  {
   "cell_type": "code",
   "execution_count": 31,
   "id": "2b6dbf5f",
   "metadata": {},
   "outputs": [],
   "source": [
    "le_genre = LabelEncoder()\n",
    "data['Year']= le_genre.fit_transform(data['Year'])"
   ]
  },
  {
   "cell_type": "code",
   "execution_count": 39,
   "id": "61d34e4d",
   "metadata": {},
   "outputs": [],
   "source": [
    "le_genre = LabelEncoder()\n",
    "data['Duration']= le_genre.fit_transform(data['Duration'])"
   ]
  },
  {
   "cell_type": "code",
   "execution_count": 40,
   "id": "c6df9bed",
   "metadata": {},
   "outputs": [
    {
     "data": {
      "text/plain": [
       "1        88\n",
       "3        88\n",
       "5        66\n",
       "6        74\n",
       "8        81\n",
       "         ..\n",
       "15493    84\n",
       "15494    70\n",
       "15503    58\n",
       "15505    68\n",
       "15508    67\n",
       "Name: Year, Length: 5659, dtype: int8"
      ]
     },
     "execution_count": 40,
     "metadata": {},
     "output_type": "execute_result"
    }
   ],
   "source": [
    "data['Year']"
   ]
  },
  {
   "cell_type": "code",
   "execution_count": 47,
   "id": "3d65b1d9",
   "metadata": {},
   "outputs": [
    {
     "data": {
      "text/html": [
       "<div>\n",
       "<style scoped>\n",
       "    .dataframe tbody tr th:only-of-type {\n",
       "        vertical-align: middle;\n",
       "    }\n",
       "\n",
       "    .dataframe tbody tr th {\n",
       "        vertical-align: top;\n",
       "    }\n",
       "\n",
       "    .dataframe thead th {\n",
       "        text-align: right;\n",
       "    }\n",
       "</style>\n",
       "<table border=\"1\" class=\"dataframe\">\n",
       "  <thead>\n",
       "    <tr style=\"text-align: right;\">\n",
       "      <th></th>\n",
       "      <th>Name</th>\n",
       "      <th>Year</th>\n",
       "      <th>Duration</th>\n",
       "      <th>Genre</th>\n",
       "      <th>Rating</th>\n",
       "      <th>Votes</th>\n",
       "      <th>Director</th>\n",
       "      <th>Actor 1</th>\n",
       "      <th>Actor 2</th>\n",
       "      <th>Actor 3</th>\n",
       "    </tr>\n",
       "  </thead>\n",
       "  <tbody>\n",
       "    <tr>\n",
       "      <th>1</th>\n",
       "      <td>#Gadhvi (He thought he was Gandhi)</td>\n",
       "      <td>88</td>\n",
       "      <td>9</td>\n",
       "      <td>229</td>\n",
       "      <td>7.0</td>\n",
       "      <td>8</td>\n",
       "      <td>629</td>\n",
       "      <td>1352</td>\n",
       "      <td>2272</td>\n",
       "      <td>319</td>\n",
       "    </tr>\n",
       "    <tr>\n",
       "      <th>3</th>\n",
       "      <td>#Yaaram</td>\n",
       "      <td>88</td>\n",
       "      <td>10</td>\n",
       "      <td>184</td>\n",
       "      <td>4.4</td>\n",
       "      <td>35</td>\n",
       "      <td>1335</td>\n",
       "      <td>1198</td>\n",
       "      <td>719</td>\n",
       "      <td>2148</td>\n",
       "    </tr>\n",
       "    <tr>\n",
       "      <th>5</th>\n",
       "      <td>...Aur Pyaar Ho Gaya</td>\n",
       "      <td>66</td>\n",
       "      <td>47</td>\n",
       "      <td>157</td>\n",
       "      <td>4.7</td>\n",
       "      <td>827</td>\n",
       "      <td>1530</td>\n",
       "      <td>378</td>\n",
       "      <td>75</td>\n",
       "      <td>2045</td>\n",
       "    </tr>\n",
       "    <tr>\n",
       "      <th>6</th>\n",
       "      <td>...Yahaan</td>\n",
       "      <td>74</td>\n",
       "      <td>42</td>\n",
       "      <td>289</td>\n",
       "      <td>7.4</td>\n",
       "      <td>1,086</td>\n",
       "      <td>2044</td>\n",
       "      <td>692</td>\n",
       "      <td>1112</td>\n",
       "      <td>2524</td>\n",
       "    </tr>\n",
       "    <tr>\n",
       "      <th>8</th>\n",
       "      <td>?: A Question Mark</td>\n",
       "      <td>81</td>\n",
       "      <td>156</td>\n",
       "      <td>320</td>\n",
       "      <td>5.6</td>\n",
       "      <td>326</td>\n",
       "      <td>135</td>\n",
       "      <td>1934</td>\n",
       "      <td>1175</td>\n",
       "      <td>1013</td>\n",
       "    </tr>\n",
       "    <tr>\n",
       "      <th>...</th>\n",
       "      <td>...</td>\n",
       "      <td>...</td>\n",
       "      <td>...</td>\n",
       "      <td>...</td>\n",
       "      <td>...</td>\n",
       "      <td>...</td>\n",
       "      <td>...</td>\n",
       "      <td>...</td>\n",
       "      <td>...</td>\n",
       "      <td>...</td>\n",
       "    </tr>\n",
       "    <tr>\n",
       "      <th>15493</th>\n",
       "      <td>Zubaan</td>\n",
       "      <td>84</td>\n",
       "      <td>15</td>\n",
       "      <td>229</td>\n",
       "      <td>6.1</td>\n",
       "      <td>408</td>\n",
       "      <td>1223</td>\n",
       "      <td>1861</td>\n",
       "      <td>1801</td>\n",
       "      <td>1615</td>\n",
       "    </tr>\n",
       "    <tr>\n",
       "      <th>15494</th>\n",
       "      <td>Zubeidaa</td>\n",
       "      <td>70</td>\n",
       "      <td>53</td>\n",
       "      <td>133</td>\n",
       "      <td>6.2</td>\n",
       "      <td>1,496</td>\n",
       "      <td>2059</td>\n",
       "      <td>763</td>\n",
       "      <td>1619</td>\n",
       "      <td>1184</td>\n",
       "    </tr>\n",
       "    <tr>\n",
       "      <th>15503</th>\n",
       "      <td>Zulm Ki Zanjeer</td>\n",
       "      <td>58</td>\n",
       "      <td>25</td>\n",
       "      <td>28</td>\n",
       "      <td>5.8</td>\n",
       "      <td>44</td>\n",
       "      <td>1793</td>\n",
       "      <td>406</td>\n",
       "      <td>754</td>\n",
       "      <td>1685</td>\n",
       "    </tr>\n",
       "    <tr>\n",
       "      <th>15505</th>\n",
       "      <td>Zulmi</td>\n",
       "      <td>68</td>\n",
       "      <td>29</td>\n",
       "      <td>38</td>\n",
       "      <td>4.5</td>\n",
       "      <td>655</td>\n",
       "      <td>1025</td>\n",
       "      <td>112</td>\n",
       "      <td>2164</td>\n",
       "      <td>314</td>\n",
       "    </tr>\n",
       "    <tr>\n",
       "      <th>15508</th>\n",
       "      <td>Zulm-O-Sitam</td>\n",
       "      <td>67</td>\n",
       "      <td>30</td>\n",
       "      <td>38</td>\n",
       "      <td>6.2</td>\n",
       "      <td>20</td>\n",
       "      <td>895</td>\n",
       "      <td>468</td>\n",
       "      <td>753</td>\n",
       "      <td>303</td>\n",
       "    </tr>\n",
       "  </tbody>\n",
       "</table>\n",
       "<p>5659 rows × 10 columns</p>\n",
       "</div>"
      ],
      "text/plain": [
       "                                     Name  Year  Duration  Genre  Rating  \\\n",
       "1      #Gadhvi (He thought he was Gandhi)    88         9    229     7.0   \n",
       "3                                 #Yaaram    88        10    184     4.4   \n",
       "5                    ...Aur Pyaar Ho Gaya    66        47    157     4.7   \n",
       "6                               ...Yahaan    74        42    289     7.4   \n",
       "8                      ?: A Question Mark    81       156    320     5.6   \n",
       "...                                   ...   ...       ...    ...     ...   \n",
       "15493                              Zubaan    84        15    229     6.1   \n",
       "15494                            Zubeidaa    70        53    133     6.2   \n",
       "15503                     Zulm Ki Zanjeer    58        25     28     5.8   \n",
       "15505                               Zulmi    68        29     38     4.5   \n",
       "15508                        Zulm-O-Sitam    67        30     38     6.2   \n",
       "\n",
       "       Votes  Director  Actor 1  Actor 2  Actor 3  \n",
       "1          8       629     1352     2272      319  \n",
       "3         35      1335     1198      719     2148  \n",
       "5        827      1530      378       75     2045  \n",
       "6      1,086      2044      692     1112     2524  \n",
       "8        326       135     1934     1175     1013  \n",
       "...      ...       ...      ...      ...      ...  \n",
       "15493    408      1223     1861     1801     1615  \n",
       "15494  1,496      2059      763     1619     1184  \n",
       "15503     44      1793      406      754     1685  \n",
       "15505    655      1025      112     2164      314  \n",
       "15508     20       895      468      753      303  \n",
       "\n",
       "[5659 rows x 10 columns]"
      ]
     },
     "execution_count": 47,
     "metadata": {},
     "output_type": "execute_result"
    }
   ],
   "source": [
    "data"
   ]
  },
  {
   "cell_type": "code",
   "execution_count": 41,
   "id": "eed0e4c7",
   "metadata": {},
   "outputs": [],
   "source": [
    "def remove_parentheses(year):\n",
    "    try:\n",
    "        year = re.sub(r\"^\\(([^()]+)\\)$\", r\"\\1\", year)\n",
    "    except:\n",
    "        pass\n",
    "    return year\n"
   ]
  },
  {
   "cell_type": "code",
   "execution_count": 42,
   "id": "17549a7c",
   "metadata": {},
   "outputs": [],
   "source": [
    "\n",
    "data['Year'] =data['Year'].apply(remove_parentheses)\n",
    "\n",
    "# Convert the Year column to numerics\n",
    "data['Year'] = pd.to_numeric(data['Year'])"
   ]
  },
  {
   "cell_type": "code",
   "execution_count": 43,
   "id": "7660a4f8",
   "metadata": {},
   "outputs": [],
   "source": [
    "x=data[['Year', 'Duration', 'Genre', 'Director', 'Actor 1', 'Actor 2', 'Actor 3']]\n",
    "y=data['Rating']\n",
    "from sklearn.model_selection import train_test_split\n",
    "x_train,x_test, y_train, y_test = train_test_split(x, y, test_size=0.25, random_state=42)\n"
   ]
  },
  {
   "cell_type": "code",
   "execution_count": 45,
   "id": "939a10e5",
   "metadata": {},
   "outputs": [
    {
     "name": "stdout",
     "output_type": "stream",
     "text": [
      "Mean squared error: 1.7193114061223151\n"
     ]
    }
   ],
   "source": [
    "model = LinearRegression()\n",
    "model.fit(x_train,y_train)\n",
    "y_pred = model.predict(x_test)\n",
    "from sklearn.metrics import mean_squared_error\n",
    "print('Mean squared error:', mean_squared_error(y_test, y_pred))"
   ]
  },
  {
   "cell_type": "code",
   "execution_count": 49,
   "id": "d7814e01",
   "metadata": {},
   "outputs": [
    {
     "name": "stdout",
     "output_type": "stream",
     "text": [
      "Predicted rating for the new movie: [-23.1873657]\n"
     ]
    },
    {
     "name": "stderr",
     "output_type": "stream",
     "text": [
      "C:\\Users\\lavan\\anaconda3\\lib\\site-packages\\sklearn\\base.py:450: UserWarning: X does not have valid feature names, but LinearRegression was fitted with feature names\n",
      "  warnings.warn(\n"
     ]
    }
   ],
   "source": [
    "new_movie_features = [2023, 120, 1, 2, 3, 4, 5]\n",
    "new_movie_rating = model.predict([new_movie_features])\n",
    "\n",
    "print('Predicted rating for the new movie:', new_movie_rating)"
   ]
  },
  {
   "cell_type": "code",
   "execution_count": 54,
   "id": "87c9fdc2",
   "metadata": {},
   "outputs": [],
   "source": [
    "label_encoder = LabelEncoder()\n",
    "data['Genre'] = label_encoder.fit_transform(data['Genre'])\n",
    "data['Director'] = label_encoder.fit_transform(data['Director'])\n",
    "data['Actor 1'] = label_encoder.fit_transform(data['Actor 1'])\n",
    "data['Actor 2'] = label_encoder.fit_transform(data['Actor 2'])\n",
    "data['Actor 3'] = label_encoder.fit_transform(data['Actor 3'])\n",
    "\n",
    "# Handle missing values\n",
    "data.dropna(inplace=True)\n",
    "from sklearn.preprocessing import LabelEncoder, StandardScaler\n",
    "# Scale the features\n",
    "scaler = StandardScaler()\n",
    "data[['Year', 'Duration']] = scaler.fit_transform(data[['Year', 'Duration']])\n"
   ]
  },
  {
   "cell_type": "code",
   "execution_count": 55,
   "id": "6058b708",
   "metadata": {},
   "outputs": [],
   "source": [
    "x=data[['Year', 'Duration', 'Genre', 'Director', 'Actor 1', 'Actor 2', 'Actor 3']]\n",
    "y=data['Rating']\n",
    "from sklearn.model_selection import train_test_split\n",
    "x_train,x_test, y_train, y_test = train_test_split(x, y, test_size=0.25, random_state=42)\n"
   ]
  },
  {
   "cell_type": "code",
   "execution_count": 56,
   "id": "db1717b5",
   "metadata": {},
   "outputs": [
    {
     "name": "stdout",
     "output_type": "stream",
     "text": [
      "Mean squared error: 1.7193114061223143\n"
     ]
    }
   ],
   "source": [
    "model = LinearRegression()\n",
    "model.fit(x_train,y_train)\n",
    "y_pred = model.predict(x_test)\n",
    "from sklearn.metrics import mean_squared_error\n",
    "print('Mean squared error:', mean_squared_error(y_test, y_pred))"
   ]
  },
  {
   "cell_type": "code",
   "execution_count": 62,
   "id": "bce486d2",
   "metadata": {},
   "outputs": [
    {
     "name": "stdout",
     "output_type": "stream",
     "text": [
      "Predicted rating for the new movie: [-567.80407118]\n"
     ]
    },
    {
     "name": "stderr",
     "output_type": "stream",
     "text": [
      "C:\\Users\\lavan\\anaconda3\\lib\\site-packages\\sklearn\\base.py:450: UserWarning: X does not have valid feature names, but LinearRegression was fitted with feature names\n",
      "  warnings.warn(\n"
     ]
    }
   ],
   "source": [
    "# Use the model to predict the rating of a new movie\n",
    "new_movie_features = [2023, 120, 1, 2, 3, 4, 5]\n",
    "new_movie_rating = model.predict([new_movie_features])\n",
    "\n",
    "print('Predicted rating for the new movie:', new_movie_rating)"
   ]
  },
  {
   "cell_type": "code",
   "execution_count": null,
   "id": "36daafb3",
   "metadata": {},
   "outputs": [],
   "source": []
  }
 ],
 "metadata": {
  "kernelspec": {
   "display_name": "Python 3 (ipykernel)",
   "language": "python",
   "name": "python3"
  },
  "language_info": {
   "codemirror_mode": {
    "name": "ipython",
    "version": 3
   },
   "file_extension": ".py",
   "mimetype": "text/x-python",
   "name": "python",
   "nbconvert_exporter": "python",
   "pygments_lexer": "ipython3",
   "version": "3.9.12"
  }
 },
 "nbformat": 4,
 "nbformat_minor": 5
}
